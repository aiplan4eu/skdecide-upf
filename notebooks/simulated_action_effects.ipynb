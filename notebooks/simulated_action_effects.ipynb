{
  "cells": [
    {
      "cell_type": "markdown",
      "metadata": {
        "id": "6nOTljC_mTMn"
      },
      "source": [
        "# Simulated Effects Demo\n",
        "\n",
        "This python notebook shows the simulated effects usage in the unified planning library and how to solve it using [scikit-decide](https://github.com/airbus/scikit-decide)."
      ]
    },
    {
      "cell_type": "markdown",
      "metadata": {},
      "source": [
        "### Setup the library"
      ]
    },
    {
      "cell_type": "markdown",
      "metadata": {},
      "source": [
        "First, we install unified_planning library and its dependencies from PyPi. Here, we use the `--pre` flag to use the latest development build."
      ]
    },
    {
      "cell_type": "code",
      "execution_count": 7,
      "metadata": {},
      "outputs": [
        {
          "name": "stdout",
          "output_type": "stream",
          "text": [
            "Requirement already satisfied: unified-planning in /Users/teichteil_fl/.local/venvs/unified_planning/lib/python3.8/site-packages (0.2.2.114.dev1)\n",
            "Requirement already satisfied: pyparsing in /Users/teichteil_fl/.local/venvs/unified_planning/lib/python3.8/site-packages (from unified-planning) (3.0.7)\n",
            "Note: you may need to restart the kernel to use updated packages.\n"
          ]
        }
      ],
      "source": [
        "pip install --pre unified-planning"
      ]
    },
    {
      "cell_type": "markdown",
      "metadata": {
        "id": "DXhHD7EAmxVx"
      },
      "source": [
        "### Basic imports\n",
        "The basic imports we need for this demo are abstracted in the `shortcuts` package.\n",
        "We also need `up-skdecide`'s solver."
      ]
    },
    {
      "cell_type": "code",
      "execution_count": 1,
      "metadata": {
        "id": "fiRk2F1llJO-"
      },
      "outputs": [],
      "source": [
        "from unified_planning.shortcuts import *\n",
        "\n",
        "import sys\n",
        "sys.path.append(\"..\")\n",
        "from up_skdecide import *"
      ]
    },
    {
      "cell_type": "markdown",
      "metadata": {
        "id": "fXA1NuXgkntV"
      },
      "source": [
        "### Problem definition"
      ]
    },
    {
      "cell_type": "markdown",
      "metadata": {
        "id": "JXDIDNwCm13b"
      },
      "source": [
        "We start the problem modeling defining the `UserType` and the `Fluent`."
      ]
    },
    {
      "cell_type": "code",
      "execution_count": 2,
      "metadata": {
        "id": "nHXzkD2LmWkB"
      },
      "outputs": [],
      "source": [
        "Location = UserType('Location')\n",
        "Robot = UserType('Robot')\n",
        "\n",
        "at = Fluent('at', Location, robot=Robot)\n",
        "battery_charge = Fluent('battery_charge', IntType(0, 100), robot=Robot)"
      ]
    },
    {
      "cell_type": "markdown",
      "metadata": {
        "id": "OVUn5VPTmXKY"
      },
      "source": [
        "We define an action `move` with a simulated effect that models the battery consumption.\n",
        "\n",
        "A `SimulatedEffect` instance can affect a list of fluent expressions, in this case only `battery_charge(robot)`.\n",
        "The function `fun` performs the computation of the simulated effect decreasing the battery value by 10. This function receives as parameters the problem, the state in which the effect is applied, and the actual parameters of the action instance whose effect is being calculated.\n"
      ]
    },
    {
      "cell_type": "code",
      "execution_count": 3,
      "metadata": {
        "id": "cwXh99K2laqv"
      },
      "outputs": [],
      "source": [
        "move = InstantaneousAction('move', robot=Robot, l_from=Location, l_to=Location)\n",
        "robot = move.parameter('robot')\n",
        "l_from = move.parameter('l_from')\n",
        "l_to = move.parameter('l_to')\n",
        "move.add_precondition(Equals(at(robot), l_from))\n",
        "move.add_precondition(GE(battery_charge(robot), 10))\n",
        "move.add_precondition(Not(Equals(l_from, l_to)))\n",
        "move.add_effect(at(robot), l_to)\n",
        "def fun(problem, state, actual_params):\n",
        "    value = state.get_value(battery_charge(actual_params.get(robot))).constant_value()\n",
        "    return [Int(value - 10)]\n",
        "move.set_simulated_effect(SimulatedEffect([battery_charge(robot)], fun))"
      ]
    },
    {
      "cell_type": "markdown",
      "metadata": {
        "id": "C92YH1nrmRb7"
      },
      "source": [
        "Finally, we define the `Object` instances and, after creating the `Problem`, we set the initial values and the goal."
      ]
    },
    {
      "cell_type": "code",
      "execution_count": 4,
      "metadata": {
        "id": "MczotRommR_k"
      },
      "outputs": [],
      "source": [
        "l1 = Object('l1', Location)\n",
        "l2 = Object('l2', Location)\n",
        "r1 = Object('r1', Robot)\n",
        "\n",
        "problem = Problem('robot_with_simulated_effects')\n",
        "problem.add_fluent(at)\n",
        "problem.add_fluent(battery_charge)\n",
        "problem.add_action(move)\n",
        "problem.add_object(l1)\n",
        "problem.add_object(l2)\n",
        "problem.add_object(r1)\n",
        "\n",
        "problem.set_initial_value(at(r1), l1)\n",
        "problem.set_initial_value(battery_charge(r1), 100)\n",
        "\n",
        "problem.add_goal(Equals(at(r1), l2))"
      ]
    },
    {
      "cell_type": "markdown",
      "metadata": {
        "id": "pXvh83ljlabv"
      },
      "source": [
        "### Solving the problem"
      ]
    },
    {
      "cell_type": "markdown",
      "metadata": {
        "id": "McV4znupqpkw"
      },
      "source": [
        "We solve the problem automatically selecting a suitable planner."
      ]
    },
    {
      "cell_type": "code",
      "execution_count": 5,
      "metadata": {},
      "outputs": [],
      "source": [
        "from skdecide.hub.solver.iw import IW"
      ]
    },
    {
      "cell_type": "code",
      "execution_count": 6,
      "metadata": {
        "colab": {
          "base_uri": "https://localhost:8080/"
        },
        "id": "bXHWJh2vl5RJ",
        "outputId": "f7af465a-6df4-4ed3-c0bc-32805348c835"
      },
      "outputs": [
        {
          "name": "stdout",
          "output_type": "stream",
          "text": [
            "[2022-04-22 18:47:54.886] [info] Running sequential IW solver from state [l1, 100]\n",
            "[2022-04-22 18:47:54.886] [info] Running sequential IW(1) solver from state [l1, 100]\n",
            "[2022-04-22 18:47:54.886] [info] Found a goal state: [l2, 100] (cost=1; best=1)\n",
            "[2022-04-22 18:47:54.886] [info] IW(1) finished to solve from state [l1, 100] in 0.000618078 seconds.\n",
            "[2022-04-22 18:47:54.886] [info] IW finished to solve from state [l1, 100] in 0.000653735 seconds.\n"
          ]
        },
        {
          "ename": "KeyError",
          "evalue": "action move_r1_l1_l2 {\n    preconditions = [\n      (at(r1) == l1)\n    ]\n    effects = [\n      at(r1) := l2\n    ]\n    simulated effect = [battery_charge(r1)] := simulated\n  }",
          "output_type": "error",
          "traceback": [
            "\u001b[0;31m---------------------------------------------------------------------------\u001b[0m",
            "\u001b[0;31mKeyError\u001b[0m                                  Traceback (most recent call last)",
            "\u001b[1;32m/Users/teichteil_fl/Projects/AIPLAN4EU/up-skdecide/notebooks/simulated_action_effects.ipynb Cell 14'\u001b[0m in \u001b[0;36m<cell line: 1>\u001b[0;34m()\u001b[0m\n\u001b[1;32m      <a href='vscode-notebook-cell:/Users/teichteil_fl/Projects/AIPLAN4EU/up-skdecide/notebooks/simulated_action_effects.ipynb#ch0000019?line=0'>1</a>\u001b[0m \u001b[39mwith\u001b[39;00m OneshotPlanner(problem_kind\u001b[39m=\u001b[39mproblem\u001b[39m.\u001b[39mkind,\n\u001b[1;32m      <a href='vscode-notebook-cell:/Users/teichteil_fl/Projects/AIPLAN4EU/up-skdecide/notebooks/simulated_action_effects.ipynb#ch0000019?line=1'>2</a>\u001b[0m                     name\u001b[39m=\u001b[39m\u001b[39m'\u001b[39m\u001b[39mSkDecide\u001b[39m\u001b[39m'\u001b[39m,\n\u001b[1;32m      <a href='vscode-notebook-cell:/Users/teichteil_fl/Projects/AIPLAN4EU/up-skdecide/notebooks/simulated_action_effects.ipynb#ch0000019?line=2'>3</a>\u001b[0m                     params\u001b[39m=\u001b[39m{\n\u001b[1;32m      <a href='vscode-notebook-cell:/Users/teichteil_fl/Projects/AIPLAN4EU/up-skdecide/notebooks/simulated_action_effects.ipynb#ch0000019?line=3'>4</a>\u001b[0m                         \u001b[39m\"\u001b[39m\u001b[39msolver\u001b[39m\u001b[39m\"\u001b[39m: IW,\n\u001b[1;32m      <a href='vscode-notebook-cell:/Users/teichteil_fl/Projects/AIPLAN4EU/up-skdecide/notebooks/simulated_action_effects.ipynb#ch0000019?line=4'>5</a>\u001b[0m                         \u001b[39m\"\u001b[39m\u001b[39mconfig\u001b[39m\u001b[39m\"\u001b[39m: {\u001b[39m\"\u001b[39m\u001b[39mstate_features\u001b[39m\u001b[39m\"\u001b[39m: \u001b[39mlambda\u001b[39;00m d, s: s},\n\u001b[1;32m      <a href='vscode-notebook-cell:/Users/teichteil_fl/Projects/AIPLAN4EU/up-skdecide/notebooks/simulated_action_effects.ipynb#ch0000019?line=5'>6</a>\u001b[0m                     },) \u001b[39mas\u001b[39;00m planner:\n\u001b[0;32m----> <a href='vscode-notebook-cell:/Users/teichteil_fl/Projects/AIPLAN4EU/up-skdecide/notebooks/simulated_action_effects.ipynb#ch0000019?line=6'>7</a>\u001b[0m     result \u001b[39m=\u001b[39m planner\u001b[39m.\u001b[39;49msolve(problem)\n\u001b[1;32m      <a href='vscode-notebook-cell:/Users/teichteil_fl/Projects/AIPLAN4EU/up-skdecide/notebooks/simulated_action_effects.ipynb#ch0000019?line=7'>8</a>\u001b[0m     \u001b[39mprint\u001b[39m(\u001b[39m\"\u001b[39m\u001b[39m%s\u001b[39;00m\u001b[39m returned: \u001b[39m\u001b[39m%s\u001b[39;00m\u001b[39m\"\u001b[39m \u001b[39m%\u001b[39m (planner\u001b[39m.\u001b[39mname, result\u001b[39m.\u001b[39mplan))\n",
            "File \u001b[0;32m~/Projects/AIPLAN4EU/up-skdecide/up_skdecide/solver.py:107\u001b[0m, in \u001b[0;36mSolverImpl.solve\u001b[0;34m(self, problem)\u001b[0m\n\u001b[1;32m    <a href='file:///Users/teichteil_fl/Projects/AIPLAN4EU/up-skdecide/up_skdecide/solver.py?line=104'>105</a>\u001b[0m         state \u001b[39m=\u001b[39m rollout_domain\u001b[39m.\u001b[39mget_next_state(state, action)\n\u001b[1;32m    <a href='file:///Users/teichteil_fl/Projects/AIPLAN4EU/up-skdecide/up_skdecide/solver.py?line=105'>106</a>\u001b[0m         plan\u001b[39m.\u001b[39mappend(action)\n\u001b[0;32m--> <a href='file:///Users/teichteil_fl/Projects/AIPLAN4EU/up-skdecide/up_skdecide/solver.py?line=106'>107</a>\u001b[0m \u001b[39mreturn\u001b[39;00m rollout_domain\u001b[39m.\u001b[39;49mrewrite_back_plan_function(\n\u001b[1;32m    <a href='file:///Users/teichteil_fl/Projects/AIPLAN4EU/up-skdecide/up_skdecide/solver.py?line=107'>108</a>\u001b[0m     SequentialPlan([ActionInstance(x) \u001b[39mfor\u001b[39;49;00m x \u001b[39min\u001b[39;49;00m plan])\n\u001b[1;32m    <a href='file:///Users/teichteil_fl/Projects/AIPLAN4EU/up-skdecide/up_skdecide/solver.py?line=108'>109</a>\u001b[0m )\n",
            "File \u001b[0;32m~/.local/venvs/unified_planning/lib/python3.8/site-packages/unified_planning/solvers/grounder.py:89\u001b[0m, in \u001b[0;36mlift_plan\u001b[0;34m(plan, map)\u001b[0m\n\u001b[1;32m     <a href='file:///Users/teichteil_fl/.local/venvs/unified_planning/lib/python3.8/site-packages/unified_planning/solvers/grounder.py?line=86'>87</a>\u001b[0m original_actions: List[ActionInstance] \u001b[39m=\u001b[39m []\n\u001b[1;32m     <a href='file:///Users/teichteil_fl/.local/venvs/unified_planning/lib/python3.8/site-packages/unified_planning/solvers/grounder.py?line=87'>88</a>\u001b[0m \u001b[39mfor\u001b[39;00m ai \u001b[39min\u001b[39;00m plan\u001b[39m.\u001b[39mactions:\n\u001b[0;32m---> <a href='file:///Users/teichteil_fl/.local/venvs/unified_planning/lib/python3.8/site-packages/unified_planning/solvers/grounder.py?line=88'>89</a>\u001b[0m     original_action, parameters \u001b[39m=\u001b[39m \u001b[39mmap\u001b[39;49m[ai\u001b[39m.\u001b[39;49maction]\n\u001b[1;32m     <a href='file:///Users/teichteil_fl/.local/venvs/unified_planning/lib/python3.8/site-packages/unified_planning/solvers/grounder.py?line=89'>90</a>\u001b[0m     original_actions\u001b[39m.\u001b[39mappend(ActionInstance(original_action, \u001b[39mtuple\u001b[39m(parameters)))\n\u001b[1;32m     <a href='file:///Users/teichteil_fl/.local/venvs/unified_planning/lib/python3.8/site-packages/unified_planning/solvers/grounder.py?line=90'>91</a>\u001b[0m \u001b[39mreturn\u001b[39;00m SequentialPlan(original_actions)\n",
            "\u001b[0;31mKeyError\u001b[0m: action move_r1_l1_l2 {\n    preconditions = [\n      (at(r1) == l1)\n    ]\n    effects = [\n      at(r1) := l2\n    ]\n    simulated effect = [battery_charge(r1)] := simulated\n  }"
          ]
        }
      ],
      "source": [
        "with OneshotPlanner(problem_kind=problem.kind,\n",
        "                    name='SkDecide',\n",
        "                    params={\n",
        "                        \"solver\": IW,\n",
        "                        \"config\": {\"state_features\": lambda d, s: s},\n",
        "                    },) as planner:\n",
        "    result = planner.solve(problem)\n",
        "    print(\"%s returned: %s\" % (planner.name, result.plan))"
      ]
    }
  ],
  "metadata": {
    "colab": {
      "name": "Simulated_effects.ipynb",
      "provenance": []
    },
    "kernelspec": {
      "display_name": "Python 3",
      "name": "python3"
    },
    "language_info": {
      "name": "python"
    }
  },
  "nbformat": 4,
  "nbformat_minor": 0
}
